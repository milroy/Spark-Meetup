{
 "cells": [
  {
   "cell_type": "markdown",
   "metadata": {},
   "source": [
    "# Simple Aggregation\n",
    "## Thanks, Monte!"
   ]
  },
  {
   "cell_type": "code",
   "execution_count": 88,
   "metadata": {
    "collapsed": false
   },
   "outputs": [
    {
     "name": "stdout",
     "output_type": "stream",
     "text": [
      "(100, 10)\n"
     ]
    }
   ],
   "source": [
    "import numpy as np\n",
    "\n",
    "data = np.arange(1000).reshape(100,10)\n",
    "print data.shape"
   ]
  },
  {
   "cell_type": "markdown",
   "metadata": {},
   "source": [
    "## Pandas"
   ]
  },
  {
   "cell_type": "code",
   "execution_count": 89,
   "metadata": {
    "collapsed": false
   },
   "outputs": [
    {
     "data": {
      "text/html": [
       "<div>\n",
       "<table border=\"1\" class=\"dataframe\">\n",
       "  <thead>\n",
       "    <tr style=\"text-align: right;\">\n",
       "      <th></th>\n",
       "      <th>x0</th>\n",
       "      <th>x1</th>\n",
       "      <th>x2</th>\n",
       "      <th>x3</th>\n",
       "      <th>x4</th>\n",
       "      <th>x5</th>\n",
       "      <th>x6</th>\n",
       "      <th>x7</th>\n",
       "      <th>x8</th>\n",
       "      <th>x9</th>\n",
       "    </tr>\n",
       "  </thead>\n",
       "  <tbody>\n",
       "    <tr>\n",
       "      <th>0</th>\n",
       "      <td>0</td>\n",
       "      <td>1</td>\n",
       "      <td>2</td>\n",
       "      <td>3</td>\n",
       "      <td>4</td>\n",
       "      <td>5</td>\n",
       "      <td>6</td>\n",
       "      <td>7</td>\n",
       "      <td>8</td>\n",
       "      <td>9</td>\n",
       "    </tr>\n",
       "    <tr>\n",
       "      <th>1</th>\n",
       "      <td>10</td>\n",
       "      <td>11</td>\n",
       "      <td>12</td>\n",
       "      <td>13</td>\n",
       "      <td>14</td>\n",
       "      <td>15</td>\n",
       "      <td>16</td>\n",
       "      <td>17</td>\n",
       "      <td>18</td>\n",
       "      <td>19</td>\n",
       "    </tr>\n",
       "    <tr>\n",
       "      <th>2</th>\n",
       "      <td>20</td>\n",
       "      <td>21</td>\n",
       "      <td>22</td>\n",
       "      <td>23</td>\n",
       "      <td>24</td>\n",
       "      <td>25</td>\n",
       "      <td>26</td>\n",
       "      <td>27</td>\n",
       "      <td>28</td>\n",
       "      <td>29</td>\n",
       "    </tr>\n",
       "    <tr>\n",
       "      <th>3</th>\n",
       "      <td>30</td>\n",
       "      <td>31</td>\n",
       "      <td>32</td>\n",
       "      <td>33</td>\n",
       "      <td>34</td>\n",
       "      <td>35</td>\n",
       "      <td>36</td>\n",
       "      <td>37</td>\n",
       "      <td>38</td>\n",
       "      <td>39</td>\n",
       "    </tr>\n",
       "    <tr>\n",
       "      <th>4</th>\n",
       "      <td>40</td>\n",
       "      <td>41</td>\n",
       "      <td>42</td>\n",
       "      <td>43</td>\n",
       "      <td>44</td>\n",
       "      <td>45</td>\n",
       "      <td>46</td>\n",
       "      <td>47</td>\n",
       "      <td>48</td>\n",
       "      <td>49</td>\n",
       "    </tr>\n",
       "  </tbody>\n",
       "</table>\n",
       "</div>"
      ],
      "text/plain": [
       "   x0  x1  x2  x3  x4  x5  x6  x7  x8  x9\n",
       "0   0   1   2   3   4   5   6   7   8   9\n",
       "1  10  11  12  13  14  15  16  17  18  19\n",
       "2  20  21  22  23  24  25  26  27  28  29\n",
       "3  30  31  32  33  34  35  36  37  38  39\n",
       "4  40  41  42  43  44  45  46  47  48  49"
      ]
     },
     "execution_count": 89,
     "metadata": {},
     "output_type": "execute_result"
    }
   ],
   "source": [
    "import pandas as pd\n",
    "\n",
    "pand_tmp = pd.DataFrame(data, \n",
    "             columns=['x{0}'.format(i) for i in range(data.shape[1])])\n",
    "pand_tmp.head()"
   ]
  },
  {
   "cell_type": "markdown",
   "metadata": {},
   "source": [
    "What is the row sum?"
   ]
  },
  {
   "cell_type": "code",
   "execution_count": 90,
   "metadata": {
    "collapsed": false
   },
   "outputs": [
    {
     "data": {
      "text/plain": [
       "0       45\n",
       "1      145\n",
       "2      245\n",
       "3      345\n",
       "4      445\n",
       "5      545\n",
       "6      645\n",
       "7      745\n",
       "8      845\n",
       "9      945\n",
       "10    1045\n",
       "11    1145\n",
       "12    1245\n",
       "13    1345\n",
       "14    1445\n",
       "15    1545\n",
       "16    1645\n",
       "17    1745\n",
       "18    1845\n",
       "19    1945\n",
       "20    2045\n",
       "21    2145\n",
       "22    2245\n",
       "23    2345\n",
       "24    2445\n",
       "25    2545\n",
       "26    2645\n",
       "27    2745\n",
       "28    2845\n",
       "29    2945\n",
       "      ... \n",
       "70    7045\n",
       "71    7145\n",
       "72    7245\n",
       "73    7345\n",
       "74    7445\n",
       "75    7545\n",
       "76    7645\n",
       "77    7745\n",
       "78    7845\n",
       "79    7945\n",
       "80    8045\n",
       "81    8145\n",
       "82    8245\n",
       "83    8345\n",
       "84    8445\n",
       "85    8545\n",
       "86    8645\n",
       "87    8745\n",
       "88    8845\n",
       "89    8945\n",
       "90    9045\n",
       "91    9145\n",
       "92    9245\n",
       "93    9345\n",
       "94    9445\n",
       "95    9545\n",
       "96    9645\n",
       "97    9745\n",
       "98    9845\n",
       "99    9945\n",
       "dtype: int64"
      ]
     },
     "execution_count": 90,
     "metadata": {},
     "output_type": "execute_result"
    }
   ],
   "source": [
    "pand_tmp.sum(axis=1)"
   ]
  },
  {
   "cell_type": "markdown",
   "metadata": {},
   "source": [
    "Column sum?"
   ]
  },
  {
   "cell_type": "code",
   "execution_count": 91,
   "metadata": {
    "collapsed": false
   },
   "outputs": [
    {
     "data": {
      "text/plain": [
       "x0    49500\n",
       "x1    49600\n",
       "x2    49700\n",
       "x3    49800\n",
       "x4    49900\n",
       "x5    50000\n",
       "x6    50100\n",
       "x7    50200\n",
       "x8    50300\n",
       "x9    50400\n",
       "dtype: int64"
      ]
     },
     "execution_count": 91,
     "metadata": {},
     "output_type": "execute_result"
    }
   ],
   "source": [
    "pand_tmp.sum(axis=0)"
   ]
  },
  {
   "cell_type": "code",
   "execution_count": 92,
   "metadata": {
    "collapsed": false
   },
   "outputs": [],
   "source": [
    "pand_tmp.to_csv('numbers.csv', index=False)"
   ]
  },
  {
   "cell_type": "markdown",
   "metadata": {},
   "source": [
    "## Spark"
   ]
  },
  {
   "cell_type": "code",
   "execution_count": 93,
   "metadata": {
    "collapsed": false
   },
   "outputs": [
    {
     "name": "stdout",
     "output_type": "stream",
     "text": [
      "x0,x1,x2,x3,x4,x5,x6,x7,x8,x9\n",
      "0,1,2,3,4,5,6,7,8,9\n",
      "10,11,12,13,14,15,16,17,18,19\n"
     ]
    }
   ],
   "source": [
    "lines = sc.textFile('numbers.csv', 18)\n",
    "for l in lines.take(3):\n",
    "    print l"
   ]
  },
  {
   "cell_type": "code",
   "execution_count": 94,
   "metadata": {
    "collapsed": false
   },
   "outputs": [
    {
     "data": {
      "text/plain": [
       "list"
      ]
     },
     "execution_count": 94,
     "metadata": {},
     "output_type": "execute_result"
    }
   ],
   "source": [
    "type(lines.take(1))"
   ]
  },
  {
   "cell_type": "markdown",
   "metadata": {},
   "source": [
    "How do we skip the header?  How about using find()?  What is Boolean value for true with find()?"
   ]
  },
  {
   "cell_type": "code",
   "execution_count": 95,
   "metadata": {
    "collapsed": false
   },
   "outputs": [
    {
     "name": "stdout",
     "output_type": "stream",
     "text": [
      "0,1,2,3,4,5,6,7,8,9\n",
      "10,11,12,13,14,15,16,17,18,19\n"
     ]
    }
   ],
   "source": [
    "lines = lines.filter(lambda x: x.find('x') != 0)\n",
    "for l in lines.take(2):\n",
    "    print l"
   ]
  },
  {
   "cell_type": "code",
   "execution_count": 96,
   "metadata": {
    "collapsed": false
   },
   "outputs": [
    {
     "data": {
      "text/plain": [
       "[[u'0', u'1', u'2', u'3', u'4', u'5', u'6', u'7', u'8', u'9'],\n",
       " [u'10', u'11', u'12', u'13', u'14', u'15', u'16', u'17', u'18', u'19'],\n",
       " [u'20', u'21', u'22', u'23', u'24', u'25', u'26', u'27', u'28', u'29']]"
      ]
     },
     "execution_count": 96,
     "metadata": {},
     "output_type": "execute_result"
    }
   ],
   "source": [
    "data = lines.map(lambda x: x.split(','))\n",
    "data.take(3)"
   ]
  },
  {
   "cell_type": "markdown",
   "metadata": {},
   "source": [
    "### Row Sum"
   ]
  },
  {
   "cell_type": "markdown",
   "metadata": {},
   "source": [
    "Cast to integer and sum!"
   ]
  },
  {
   "cell_type": "code",
   "execution_count": 97,
   "metadata": {
    "collapsed": false
   },
   "outputs": [
    {
     "name": "stdout",
     "output_type": "stream",
     "text": [
      "[45, 145, 245, 345, 445, 545, 645, 745, 845, 945, 1045, 1145, 1245, 1345, 1445, 1545, 1645, 1745, 1845, 1945, 2045, 2145, 2245, 2345, 2445, 2545, 2645, 2745, 2845, 2945, 3045, 3145, 3245, 3345, 3445, 3545, 3645, 3745, 3845, 3945, 4045, 4145, 4245, 4345, 4445, 4545, 4645, 4745, 4845, 4945, 5045, 5145, 5245, 5345, 5445, 5545, 5645, 5745, 5845, 5945, 6045, 6145, 6245, 6345, 6445, 6545, 6645, 6745, 6845, 6945, 7045, 7145, 7245, 7345, 7445, 7545, 7645, 7745, 7845, 7945, 8045, 8145, 8245, 8345, 8445, 8545, 8645, 8745, 8845, 8945, 9045, 9145, 9245, 9345, 9445, 9545, 9645, 9745, 9845, 9945]\n",
      "100\n"
     ]
    }
   ],
   "source": [
    "def row_sum(x):\n",
    "    int_x = map(lambda x: int(x), x)\n",
    "    return sum(int_x)\n",
    "\n",
    "data_row_sum = data.map(row_sum)\n",
    "\n",
    "print data_row_sum.collect()\n",
    "print data_row_sum.count()"
   ]
  },
  {
   "cell_type": "markdown",
   "metadata": {},
   "source": [
    "### Column Sum"
   ]
  },
  {
   "cell_type": "markdown",
   "metadata": {},
   "source": [
    "This one's a bit trickier, and portends ill for large, complex data sets (like example 4)...\n",
    "Let's enumerate the list comprising each RDD \"line\" such that each value is indexed by the corresponding column number."
   ]
  },
  {
   "cell_type": "code",
   "execution_count": 98,
   "metadata": {
    "collapsed": false
   },
   "outputs": [
    {
     "data": {
      "text/plain": [
       "[(0, 0),\n",
       " (1, 1),\n",
       " (2, 2),\n",
       " (3, 3),\n",
       " (4, 4),\n",
       " (5, 5),\n",
       " (6, 6),\n",
       " (7, 7),\n",
       " (8, 8),\n",
       " (9, 9),\n",
       " (0, 10),\n",
       " (1, 11)]"
      ]
     },
     "execution_count": 98,
     "metadata": {},
     "output_type": "execute_result"
    }
   ],
   "source": [
    "def col_key(x):\n",
    "    for i, value in enumerate(x):\n",
    "       yield (i, int(value))\n",
    "\n",
    "tmp = data.flatMap(col_key)\n",
    "tmp.take(12)"
   ]
  },
  {
   "cell_type": "code",
   "execution_count": 99,
   "metadata": {
    "collapsed": false
   },
   "outputs": [
    {
     "data": {
      "text/plain": [
       "[(0, 0), (1, 1), (2, 2)]"
      ]
     },
     "execution_count": 99,
     "metadata": {},
     "output_type": "execute_result"
    }
   ],
   "source": [
    "tmp.take(3)"
   ]
  },
  {
   "cell_type": "code",
   "execution_count": 100,
   "metadata": {
    "collapsed": false
   },
   "outputs": [
    {
     "name": "stdout",
     "output_type": "stream",
     "text": [
      "(0, <pyspark.resultiterable.ResultIterable object at 0x7f6ea1f42d50>) <type 'tuple'>\n",
      "(8, <pyspark.resultiterable.ResultIterable object at 0x7f6ea1f42650>) <type 'tuple'>\n"
     ]
    }
   ],
   "source": [
    "tmp = tmp.groupByKey()\n",
    "for i in tmp.take(2):\n",
    "    print i, type(i)"
   ]
  },
  {
   "cell_type": "code",
   "execution_count": 101,
   "metadata": {
    "collapsed": false
   },
   "outputs": [
    {
     "name": "stdout",
     "output_type": "stream",
     "text": [
      "49500\n",
      "50300\n"
     ]
    }
   ],
   "source": [
    "data_col_sum = tmp.map(lambda x: sum(x[1]))\n",
    "for i in data_col_sum.take(2):\n",
    "    print i"
   ]
  },
  {
   "cell_type": "code",
   "execution_count": 102,
   "metadata": {
    "collapsed": false
   },
   "outputs": [
    {
     "name": "stdout",
     "output_type": "stream",
     "text": [
      "[49500, 50300, 49700, 49900, 50100, 49600, 49800, 50400, 50000, 50200]\n",
      "10\n"
     ]
    }
   ],
   "source": [
    "print data_col_sum.collect()\n",
    "print data_col_sum.count()"
   ]
  },
  {
   "cell_type": "markdown",
   "metadata": {},
   "source": [
    "### Column sum with Spark.sql.dataframe"
   ]
  },
  {
   "cell_type": "code",
   "execution_count": 103,
   "metadata": {
    "collapsed": true
   },
   "outputs": [],
   "source": [
    "from pyspark.sql.types import *"
   ]
  },
  {
   "cell_type": "code",
   "execution_count": 104,
   "metadata": {
    "collapsed": true
   },
   "outputs": [],
   "source": [
    "pyspark_df = sqlCtx.createDataFrame(pand_tmp)"
   ]
  },
  {
   "cell_type": "code",
   "execution_count": 105,
   "metadata": {
    "collapsed": false
   },
   "outputs": [
    {
     "data": {
      "text/plain": [
       "[Row(x0=0, x1=1, x2=2, x3=3, x4=4, x5=5, x6=6, x7=7, x8=8, x9=9),\n",
       " Row(x0=10, x1=11, x2=12, x3=13, x4=14, x5=15, x6=16, x7=17, x8=18, x9=19)]"
      ]
     },
     "execution_count": 105,
     "metadata": {},
     "output_type": "execute_result"
    }
   ],
   "source": [
    "pyspark_df.take(2)"
   ]
  },
  {
   "cell_type": "code",
   "execution_count": 106,
   "metadata": {
    "collapsed": false
   },
   "outputs": [
    {
     "name": "stdout",
     "output_type": "stream",
     "text": [
      "[Row(SUM(x0)=49500)]\n",
      "[Row(SUM(x1)=49600)]\n",
      "[Row(SUM(x2)=49700)]\n",
      "[Row(SUM(x3)=49800)]\n",
      "[Row(SUM(x4)=49900)]\n",
      "[Row(SUM(x5)=50000)]\n",
      "[Row(SUM(x6)=50100)]\n",
      "[Row(SUM(x7)=50200)]\n",
      "[Row(SUM(x8)=50300)]\n",
      "[Row(SUM(x9)=50400)]\n"
     ]
    }
   ],
   "source": [
    "for i in pyspark_df.columns:\n",
    "    print pyspark_df.groupBy().sum(i).collect()"
   ]
  }
 ],
 "metadata": {
  "kernelspec": {
   "display_name": "Python 2",
   "language": "python",
   "name": "python2"
  },
  "language_info": {
   "codemirror_mode": {
    "name": "ipython",
    "version": 2
   },
   "file_extension": ".py",
   "mimetype": "text/x-python",
   "name": "python",
   "nbconvert_exporter": "python",
   "pygments_lexer": "ipython2",
   "version": "2.7.10"
  }
 },
 "nbformat": 4,
 "nbformat_minor": 0
}
