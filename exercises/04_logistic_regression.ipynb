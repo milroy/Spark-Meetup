{
 "cells": [
  {
   "cell_type": "markdown",
   "metadata": {},
   "source": [
    "# Logistic Regression\n",
    "## Again, thanks to Monte!"
   ]
  },
  {
   "cell_type": "code",
   "execution_count": 1,
   "metadata": {
    "collapsed": false
   },
   "outputs": [],
   "source": [
    "import numpy as np\n",
    "from sklearn import datasets\n",
    "from sklearn.utils import shuffle\n",
    "\n",
    "random_state = np.random.RandomState(0)\n",
    "\n",
    "iris = datasets.load_iris()\n",
    "X = iris.data\n",
    "y = iris.target"
   ]
  },
  {
   "cell_type": "markdown",
   "metadata": {},
   "source": [
    "Make it a binary classification problem by removing the third class"
   ]
  },
  {
   "cell_type": "code",
   "execution_count": 2,
   "metadata": {
    "collapsed": false
   },
   "outputs": [],
   "source": [
    "X, y = X[y != 0], y[y != 0]\n",
    "n_samples, n_features = X.shape\n",
    "\n",
    "y[y==1] = 0\n",
    "y[y==2] = 1"
   ]
  },
  {
   "cell_type": "code",
   "execution_count": 3,
   "metadata": {
    "collapsed": false
   },
   "outputs": [
    {
     "name": "stdout",
     "output_type": "stream",
     "text": [
      "(100, 4) (100,)\n",
      "set([0, 1])\n"
     ]
    }
   ],
   "source": [
    "print X.shape, y.shape\n",
    "print set(y)"
   ]
  },
  {
   "cell_type": "markdown",
   "metadata": {},
   "source": [
    "## Using `sklearn`"
   ]
  },
  {
   "cell_type": "code",
   "execution_count": 4,
   "metadata": {
    "collapsed": false
   },
   "outputs": [
    {
     "name": "stdout",
     "output_type": "stream",
     "text": [
      "0.9875\n",
      "0.85\n"
     ]
    }
   ],
   "source": [
    "from sklearn.linear_model import LogisticRegression\n",
    "from sklearn.metrics import accuracy_score\n",
    "from sklearn.cross_validation import train_test_split\n",
    "\n",
    "X_train, X_test, y_train, y_test = train_test_split(X, y, test_size=0.2, random_state=42)\n",
    "\n",
    "clf = LogisticRegression()\n",
    "clf.fit(X_train,y_train)\n",
    "y_pred_test = clf.predict(X_test)\n",
    "y_pred_train = clf.predict(X_train)\n",
    "print accuracy_score(y_train, y_pred_train)\n",
    "print accuracy_score(y_test, y_pred_test)"
   ]
  },
  {
   "cell_type": "markdown",
   "metadata": {},
   "source": [
    "## Save to file"
   ]
  },
  {
   "cell_type": "code",
   "execution_count": 5,
   "metadata": {
    "collapsed": false
   },
   "outputs": [
    {
     "name": "stdout",
     "output_type": "stream",
     "text": [
      "(80,)\n",
      "(80, 1)\n",
      "(80, 4)\n"
     ]
    },
    {
     "data": {
      "text/plain": [
       "(80, 5)"
      ]
     },
     "execution_count": 5,
     "metadata": {},
     "output_type": "execute_result"
    }
   ],
   "source": [
    "print y_train.shape\n",
    "print y_train.reshape(y_train.shape[0],1).shape\n",
    "print X_train.shape\n",
    "cX = np.concatenate((y_train.reshape(80,1), X_train), axis=1)\n",
    "cX.shape"
   ]
  },
  {
   "cell_type": "markdown",
   "metadata": {},
   "source": [
    "Write to file...."
   ]
  },
  {
   "cell_type": "code",
   "execution_count": 6,
   "metadata": {
    "collapsed": false
   },
   "outputs": [
    {
     "name": "stdout",
     "output_type": "stream",
     "text": [
      "1.0000 7.6000 3.0000 6.6000 2.1000\r\n",
      "1.0000 6.0000 3.0000 4.8000 1.8000\r\n",
      "0.0000 6.8000 2.8000 4.8000 1.4000\r\n",
      "0.0000 5.8000 2.6000 4.0000 1.2000\r\n",
      "1.0000 6.0000 2.2000 5.0000 1.5000\r\n",
      "0.0000 6.7000 3.1000 4.4000 1.4000\r\n",
      "0.0000 5.5000 2.6000 4.4000 1.2000\r\n",
      "1.0000 6.3000 2.5000 5.0000 1.9000\r\n",
      "0.0000 5.2000 2.7000 3.9000 1.4000\r\n",
      "1.0000 7.7000 2.8000 6.7000 2.0000\r\n"
     ]
    }
   ],
   "source": [
    "np.savetxt('iris_train.csv', cX, delimiter=' ', fmt='%0.4f')\n",
    "!head iris_train.csv"
   ]
  },
  {
   "cell_type": "code",
   "execution_count": 7,
   "metadata": {
    "collapsed": false
   },
   "outputs": [],
   "source": [
    "cX = np.concatenate((y_test.reshape(len(y_test),1), X_test), axis=1)\n",
    "np.savetxt('iris_test.csv', cX, delimiter=' ', fmt='%0.4f')"
   ]
  },
  {
   "cell_type": "markdown",
   "metadata": {},
   "source": [
    "## With `Spark`"
   ]
  },
  {
   "cell_type": "code",
   "execution_count": 10,
   "metadata": {
    "collapsed": false
   },
   "outputs": [
    {
     "data": {
      "text/plain": [
       "[u'1.0000 7.6000 3.0000 6.6000 2.1000',\n",
       " u'1.0000 6.0000 3.0000 4.8000 1.8000',\n",
       " u'0.0000 6.8000 2.8000 4.8000 1.4000',\n",
       " u'0.0000 5.8000 2.6000 4.0000 1.2000',\n",
       " u'1.0000 6.0000 2.2000 5.0000 1.5000']"
      ]
     },
     "execution_count": 10,
     "metadata": {},
     "output_type": "execute_result"
    }
   ],
   "source": [
    "points = sc.textFile('../pyspark-exercises/iris_train.csv', 18)\n",
    "points.take(5)"
   ]
  },
  {
   "cell_type": "code",
   "execution_count": 11,
   "metadata": {
    "collapsed": false
   },
   "outputs": [
    {
     "name": "stdout",
     "output_type": "stream",
     "text": [
      "<class 'pyspark.rdd.PipelinedRDD'>\n"
     ]
    },
    {
     "data": {
      "text/plain": [
       "[LabeledPoint(1.0, [7.6,3.0,6.6,2.1])]"
      ]
     },
     "execution_count": 11,
     "metadata": {},
     "output_type": "execute_result"
    }
   ],
   "source": [
    "from pyspark.mllib.classification import LogisticRegressionWithSGD\n",
    "from pyspark.mllib.classification import LabeledPoint \n",
    "\n",
    "parsed_data = points.map(lambda line: np.array([float(x) for x in line.split(' ')]))\n",
    "parsed_data = parsed_data.map(lambda arr: LabeledPoint(arr[0],arr[1:]))\n",
    "\n",
    "print type(parsed_data)\n",
    "parsed_data.take(1)"
   ]
  },
  {
   "cell_type": "code",
   "execution_count": 13,
   "metadata": {
    "collapsed": false
   },
   "outputs": [],
   "source": [
    "model = LogisticRegressionWithSGD.train(parsed_data)"
   ]
  },
  {
   "cell_type": "markdown",
   "metadata": {},
   "source": [
    "Any idea about the \"Cleaned shuffle\" messages?\n",
    "Hint: narrow versus wide transformations."
   ]
  },
  {
   "cell_type": "code",
   "execution_count": 14,
   "metadata": {
    "collapsed": false
   },
   "outputs": [],
   "source": [
    "y = parsed_data.map(lambda x: x.label)\n",
    "y_pred = parsed_data.map(lambda x: model.predict(x.features))"
   ]
  },
  {
   "cell_type": "code",
   "execution_count": 15,
   "metadata": {
    "collapsed": false
   },
   "outputs": [
    {
     "data": {
      "text/plain": [
       "[(1.0, 1), (1.0, 1), (0.0, 0), (0.0, 0), (1.0, 1)]"
      ]
     },
     "execution_count": 15,
     "metadata": {},
     "output_type": "execute_result"
    }
   ],
   "source": [
    "tmp = y.zip(y_pred)\n",
    "tmp.take(5)"
   ]
  },
  {
   "cell_type": "markdown",
   "metadata": {},
   "source": [
    "Training accuracy"
   ]
  },
  {
   "cell_type": "code",
   "execution_count": 16,
   "metadata": {
    "collapsed": false
   },
   "outputs": [
    {
     "data": {
      "text/plain": [
       "0.975"
      ]
     },
     "execution_count": 16,
     "metadata": {},
     "output_type": "execute_result"
    }
   ],
   "source": [
    "1.0 - tmp.filter(lambda (y, p): y!=p).count()/float(parsed_data.count())"
   ]
  },
  {
   "cell_type": "markdown",
   "metadata": {},
   "source": [
    "Test accuracy"
   ]
  },
  {
   "cell_type": "code",
   "execution_count": 17,
   "metadata": {
    "collapsed": false
   },
   "outputs": [
    {
     "data": {
      "text/plain": [
       "0.85"
      ]
     },
     "execution_count": 17,
     "metadata": {},
     "output_type": "execute_result"
    }
   ],
   "source": [
    "points = sc.textFile('../pyspark-exercises/iris_test.csv', 18)\n",
    "parsed_data = points.map(lambda line: np.array([float(x) for x in line.split(' ')]))\n",
    "parsed_data = parsed_data.map(lambda arr: LabeledPoint(arr[0],arr[1:]))\n",
    "y_pred = parsed_data.map(lambda x: model.predict(x.features))\n",
    "y = parsed_data.map(lambda x: x.label)\n",
    "tmp = y.zip(y_pred)\n",
    "1.0 - tmp.filter(lambda (y, p): y!=p).count()/float(parsed_data.count())"
   ]
  }
 ],
 "metadata": {
  "kernelspec": {
   "display_name": "Python 2",
   "language": "python",
   "name": "python2"
  },
  "language_info": {
   "codemirror_mode": {
    "name": "ipython",
    "version": 2
   },
   "file_extension": ".py",
   "mimetype": "text/x-python",
   "name": "python",
   "nbconvert_exporter": "python",
   "pygments_lexer": "ipython2",
   "version": "2.7.10"
  }
 },
 "nbformat": 4,
 "nbformat_minor": 0
}
