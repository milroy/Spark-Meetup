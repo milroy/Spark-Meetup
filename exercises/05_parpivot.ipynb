{
 "cells": [
  {
   "cell_type": "markdown",
   "metadata": {},
   "source": [
    "# Example 2: A fast parallel pivot, or preparing for time series analysis"
   ]
  },
  {
   "cell_type": "code",
   "execution_count": 1,
   "metadata": {
    "collapsed": false
   },
   "outputs": [],
   "source": [
    "from pyspark import SparkConf, SparkContext\n",
    "from collections import OrderedDict"
   ]
  },
  {
   "cell_type": "code",
   "execution_count": 2,
   "metadata": {
    "collapsed": false
   },
   "outputs": [
    {
     "data": {
      "text/plain": [
       "[u'oss07;lustre.scratch.ost.obdfilter.OST0017.cache_access;0.00000;float;pages/s;1398382546',\n",
       " u'oss07;lustre.scratch.ost.obdfilter.OST0015.disconnect;0.00000;float;requests/s;1398382546',\n",
       " u'oss07;cpu_intr;0.0;float;%;1398382546',\n",
       " u'oss07;lustre.scratch.ost.obdfilter.hosttotal.cache_access;0.00000;float;pages/s;1398382546',\n",
       " u'oss07;lustre.scratch.ost.obdfilter.OST0025.connect;0.00000;float;requests/s;1398382546']"
      ]
     },
     "execution_count": 2,
     "metadata": {},
     "output_type": "execute_result"
    }
   ],
   "source": [
    "partitions = 18\n",
    "parcsv = sc.textFile(\"/lustre/janus_scratch/dami9546/lustre_timeseries.csv\", partitions)\n",
    "parcsv.take(5)"
   ]
  },
  {
   "cell_type": "markdown",
   "metadata": {},
   "source": [
    "Each of these lines contains 6 semi-colon delimited columns: hostname, metric name, value reported, type, units, and Unix epoch time.  Can we assume all do?  The example data is an excerpt of one day of Lustre data, but we have hundreds of full days which may contain dropped writes and malformed data.  I'll apply a filter to the data to select all lines with six columns.\n",
    "\n",
    "Sometimes it isn't evident whether filters are needed until a succeeding RDD action fails."
   ]
  },
  {
   "cell_type": "code",
   "execution_count": 3,
   "metadata": {
    "collapsed": false
   },
   "outputs": [],
   "source": [
    "filtered = parcsv.filter(lambda line: len(line.split(';')) == 6)"
   ]
  },
  {
   "cell_type": "markdown",
   "metadata": {},
   "source": [
    "As seen above, the lines are Unicode, but in anticipation of necessary transformations the timestamp and values will need to be cast to appropriate types.  We'll need to create a function that takes each line as an argument and returns a 4-tuple (quadruple?), organized to facilitate intuitive indexing.  Let's pick the following ordering: (timestamp, host, metric, value).  We don't need the other values, so they are discarded.\n",
    "\n",
    "Since the values in the third column are currently Unicode, a try-except structure is used to attempt to cast them to floats.  If unsuccessful we set them to zero rather than NaN, since these don't work with the forthcoming eigendecomposition.\n",
    "\n",
    "An alternative to the try-except would be to apply a filter for lines whose third column can't be cast as a float.  I haven't compared the performance between these two."
   ]
  },
  {
   "cell_type": "code",
   "execution_count": 4,
   "metadata": {
    "collapsed": true
   },
   "outputs": [],
   "source": [
    "def cast(line):\n",
    "    try:\n",
    "      val = float(str(line.split(';')[2]))\n",
    "    except:\n",
    "      val = 0.0\n",
    "    return (int(line.split(';')[5]), line.split(';')[0], \n",
    "            line.split(';')[1], val)"
   ]
  },
  {
   "cell_type": "code",
   "execution_count": 5,
   "metadata": {
    "collapsed": true
   },
   "outputs": [],
   "source": [
    "parsed = filtered.map(cast)"
   ]
  },
  {
   "cell_type": "markdown",
   "metadata": {},
   "source": [
    "Metrics aren't reported continuously, nor are the monitoring systems flawless.  We need to assemble a unique set (dictionary) of metrics for the pivot, but they must be ordered to make sure the covariance structure (for PCA) isn't distorted.  \n",
    "\n",
    "PySpark's \".distinct()\" method accomplishes this; we issue a \".collect()\" as well to assign the RDD's values to a variable."
   ]
  },
  {
   "cell_type": "code",
   "execution_count": null,
   "metadata": {
    "collapsed": true
   },
   "outputs": [],
   "source": [
    "columns = parsed.map(lambda x: x[2]).distinct().collect()\n",
    "basedict = dict((metric, 0.0) for metric in columns)"
   ]
  },
  {
   "cell_type": "markdown",
   "metadata": {},
   "source": [
    "Now we create an ordered dictionary to preserve the metric (and consequently, column) ordering.  If we did not create this OrderedDict, the keys' ordering may be permuted.  This will render the eigendecomposition of the covariance matrix meaningless.\n",
    "\n",
    "The object is broadcast to all executors to be used in a future mapped function."
   ]
  },
  {
   "cell_type": "code",
   "execution_count": 6,
   "metadata": {
    "collapsed": true
   },
   "outputs": [],
   "source": [
    "ordered = sc.broadcast(OrderedDict(sorted(basedict.items(), key=lambda y: y[0])))"
   ]
  },
  {
   "cell_type": "markdown",
   "metadata": {},
   "source": [
    "The two functions below are adapted from user patricksurry's answer to this Stack Overflow question: http://stackoverflow.com/questions/30260015/reshaping-pivoting-data-in-spark-rdd-and-or-spark-dataframes.  Beware, patricksurry's answer is predominantly serial!"
   ]
  },
  {
   "cell_type": "code",
   "execution_count": null,
   "metadata": {
    "collapsed": true
   },
   "outputs": [],
   "source": [
    "def combine(u1, u2):\n",
    "  u1.update(u2)\n",
    "  return u1\n",
    "\n",
    "def sequential(u, v):\n",
    "  if not u:\n",
    "      u = {}\n",
    "  u[v[2]] = v[3]\n",
    "  return u"
   ]
  },
  {
   "cell_type": "markdown",
   "metadata": {},
   "source": [
    "We need to perform an aggregation by key.  This operation takes two functions as arguments: the sequential and combination functions.  The sequential op constructs a dictionary from (metric, value) in each row, and the combine op combines row dictionaries based on identical (timestamp, host) keys.\n",
    "\n",
    "<img src=\"aggregateByKey.png\">"
   ]
  },
  {
   "cell_type": "code",
   "execution_count": null,
   "metadata": {
    "collapsed": true
   },
   "outputs": [],
   "source": [
    "aggregated = parsed.keyBy(lambda row: (row[0], row[1])).aggregateByKey(\n",
    "    None, sequential, combine)"
   ]
  },
  {
   "cell_type": "markdown",
   "metadata": {},
   "source": [
    "Now we need to impose the structure of our OrderedDict on each aggregated key, value pair.  We create a new function to copy our canonical dictionary (of ordered keys, and 0.0 values) and update it with the dictionaries created in the aggregateByKey step."
   ]
  },
  {
   "cell_type": "code",
   "execution_count": null,
   "metadata": {
    "collapsed": true
   },
   "outputs": [],
   "source": [
    "def mergedicts(new):\n",
    "  tmp = ordered.value.copy()\n",
    "  tmp.update(new[1])\n",
    "  return new[0], tmp"
   ]
  },
  {
   "cell_type": "code",
   "execution_count": 8,
   "metadata": {
    "collapsed": false
   },
   "outputs": [],
   "source": [
    "pivoted = aggregated.map(mergedicts)"
   ]
  },
  {
   "cell_type": "markdown",
   "metadata": {},
   "source": [
    "Let's take a look at the results."
   ]
  },
  {
   "cell_type": "code",
   "execution_count": 56,
   "metadata": {
    "collapsed": false
   },
   "outputs": [],
   "source": [
    "final_ordered = pivoted.takeOrdered(10, key=lambda x: x[0])"
   ]
  },
  {
   "cell_type": "code",
   "execution_count": 57,
   "metadata": {
    "collapsed": false
   },
   "outputs": [
    {
     "data": {
      "text/plain": [
       "(1398382545, u'mds01')"
      ]
     },
     "execution_count": 57,
     "metadata": {},
     "output_type": "execute_result"
    }
   ],
   "source": [
    "final_ordered[0][0]"
   ]
  },
  {
   "cell_type": "markdown",
   "metadata": {},
   "source": [
    "To sort the entire RDD, we use a sortByKey."
   ]
  },
  {
   "cell_type": "code",
   "execution_count": 9,
   "metadata": {
    "collapsed": false
   },
   "outputs": [],
   "source": [
    "final_sorted = pivoted.sortByKey(keyfunc= lambda k: k[0])"
   ]
  },
  {
   "cell_type": "code",
   "execution_count": 10,
   "metadata": {
    "collapsed": true
   },
   "outputs": [],
   "source": [
    "final_dict = final_sorted.map(lambda row: row[1].values())"
   ]
  },
  {
   "cell_type": "markdown",
   "metadata": {},
   "source": [
    "Writing the lists to disk takes quite a long time.  This is not optimized and not writing in parallel.  An exercise for the reader!"
   ]
  },
  {
   "cell_type": "code",
   "execution_count": 11,
   "metadata": {
    "collapsed": false
   },
   "outputs": [],
   "source": [
    "final_dict.saveAsTextFile(\"/lustre/janus_scratch/dami9546/pivoted.txt\")"
   ]
  },
  {
   "cell_type": "markdown",
   "metadata": {},
   "source": [
    "# Now on to Scala Spark for time series PCA"
   ]
  },
  {
   "cell_type": "markdown",
   "metadata": {},
   "source": [
    "Now exit the pyspark shell, and run spark-shell with the following options."
   ]
  },
  {
   "cell_type": "code",
   "execution_count": null,
   "metadata": {
    "collapsed": true
   },
   "outputs": [],
   "source": [
    "spark-shell --master $MASTER --driver-memory 12g"
   ]
  },
  {
   "cell_type": "code",
   "execution_count": null,
   "metadata": {
    "collapsed": true
   },
   "outputs": [],
   "source": [
    "import org.apache.spark.mllib.linalg.Matrix\n",
    "import org.apache.spark.mllib.linalg.distributed.RowMatrix\n",
    "import org.apache.spark.mllib.linalg.{Vector, Vectors}\n",
    "\n",
    "val datafilePattern = \"/lustre/janus_scratch/dami9546/pivoted.txt\"\n",
    "val lustreData = sc.textFile(datafilePattern).cache()\n",
    "\n",
    "val vecData = lustreData.map(line => line.split(\",\").map(\n",
    "        line => line.drop(1).dropRight(1)).map(\n",
    "        v => v.toDouble)).map(arr => Vectors.dense(arr))\n",
    "val rmat: RowMatrix = new RowMatrix(vecData)\n",
    "val pc: Matrix = rmat.computePrincipalComponents(15)"
   ]
  }
 ],
 "metadata": {
  "kernelspec": {
   "display_name": "Python 2",
   "language": "python",
   "name": "python2"
  },
  "language_info": {
   "codemirror_mode": {
    "name": "ipython",
    "version": 2
   },
   "file_extension": ".py",
   "mimetype": "text/x-python",
   "name": "python",
   "nbconvert_exporter": "python",
   "pygments_lexer": "ipython2",
   "version": "2.7.10"
  }
 },
 "nbformat": 4,
 "nbformat_minor": 0
}
