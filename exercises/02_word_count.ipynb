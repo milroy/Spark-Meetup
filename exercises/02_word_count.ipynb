{
 "cells": [
  {
   "cell_type": "markdown",
   "metadata": {},
   "source": [
    "# Word Count"
   ]
  },
  {
   "cell_type": "code",
   "execution_count": 4,
   "metadata": {
    "collapsed": false
   },
   "outputs": [],
   "source": [
    "import os\n",
    "\n",
    "with open(os.path.join('data','hamlet.txt'),'r') as infile:\n",
    "    hamlet = infile.read()"
   ]
  },
  {
   "cell_type": "markdown",
   "metadata": {},
   "source": [
    "## Standard Python"
   ]
  },
  {
   "cell_type": "code",
   "execution_count": 5,
   "metadata": {
    "collapsed": false
   },
   "outputs": [
    {
     "name": "stdout",
     "output_type": "stream",
     "text": [
      "['hamlet', 'dramatis', 'personae', 'claudius', 'king', 'of', 'denmark', 'king', 'claudius', 'hamlet']\n"
     ]
    }
   ],
   "source": [
    "import re\n",
    "\n",
    "words = re.split('\\W+', hamlet.lower().strip())\n",
    "print words[:10]"
   ]
  },
  {
   "cell_type": "code",
   "execution_count": 6,
   "metadata": {
    "collapsed": false
   },
   "outputs": [
    {
     "name": "stdout",
     "output_type": "stream",
     "text": [
      "['hamlet', 'dramatis', 'personae', 'claudius', 'king', 'denmark', 'king', 'claudius', 'hamlet', 'son']\n"
     ]
    }
   ],
   "source": [
    "words = filter(lambda x: len(x)>2, words)\n",
    "print words[:10]"
   ]
  },
  {
   "cell_type": "code",
   "execution_count": 7,
   "metadata": {
    "collapsed": false
   },
   "outputs": [],
   "source": [
    "wc = dict()\n",
    "\n",
    "def add_to_dic(word):\n",
    "    wc[word] = wc.get(word,0) + 1\n",
    "\n",
    "# map the words\n",
    "map(add_to_dic, words)\n",
    "\n",
    "#sort by frequency\n",
    "top_words = sorted(wc.items(), key=lambda x: x[1], reverse=True)[:15]"
   ]
  },
  {
   "cell_type": "code",
   "execution_count": 8,
   "metadata": {
    "collapsed": false
   },
   "outputs": [
    {
     "data": {
      "text/plain": [
       "[('the', 930),\n",
       " ('and', 843),\n",
       " ('you', 496),\n",
       " ('hamlet', 368),\n",
       " ('that', 346),\n",
       " ('lord', 278),\n",
       " ('not', 262),\n",
       " ('his', 238),\n",
       " ('this', 238),\n",
       " ('with', 232),\n",
       " ('but', 232),\n",
       " ('for', 215),\n",
       " ('your', 211),\n",
       " ('what', 186),\n",
       " ('king', 171)]"
      ]
     },
     "execution_count": 8,
     "metadata": {},
     "output_type": "execute_result"
    }
   ],
   "source": [
    "top_words"
   ]
  },
  {
   "cell_type": "code",
   "execution_count": 9,
   "metadata": {
    "collapsed": false
   },
   "outputs": [],
   "source": [
    "%matplotlib inline\n",
    "import matplotlib.pyplot as plt\n",
    "\n",
    "def plot(words):\n",
    "    values = map(lambda x: x[1], words)\n",
    "    labels = map(lambda x: x[0], words)\n",
    "    plt.barh(range(len(values)), values, color='grey')\n",
    "    plt.yticks(range(len(values)), labels)\n",
    "    plt.show()"
   ]
  },
  {
   "cell_type": "code",
   "execution_count": 10,
   "metadata": {
    "collapsed": false
   },
   "outputs": [
    {
     "data": {
      "image/png": "[encoded data removed]",
      "text/plain": [
       "<matplotlib.figure.Figure at 0x103b3fed0>"
      ]
     },
     "metadata": {},
     "output_type": "display_data"
    }
   ],
   "source": [
    "plot(top_words)"
   ]
  },
  {
   "cell_type": "markdown",
   "metadata": {},
   "source": [
    "## Spark"
   ]
  },
  {
   "cell_type": "code",
   "execution_count": 11,
   "metadata": {
    "collapsed": false
   },
   "outputs": [],
   "source": [
    "from pyspark import  SparkContext\n",
    "\n",
    "sc = SparkContext( 'local[4]', 'pyspark')"
   ]
  },
  {
   "cell_type": "code",
   "execution_count": 13,
   "metadata": {
    "collapsed": false
   },
   "outputs": [
    {
     "data": {
      "text/plain": [
       "[u'\\tHAMLET', u'', u'', u'\\tDRAMATIS PERSONAE', u'']"
      ]
     },
     "execution_count": 13,
     "metadata": {},
     "output_type": "execute_result"
    }
   ],
   "source": [
    "words = sc.textFile(os.path.join('data','hamlet.txt'))\n",
    "words.take(5)"
   ]
  },
  {
   "cell_type": "code",
   "execution_count": 14,
   "metadata": {
    "collapsed": false
   },
   "outputs": [
    {
     "data": {
      "text/plain": [
       "[u'hamlet', u'', u'', u'dramatis', u'personae']"
      ]
     },
     "execution_count": 14,
     "metadata": {},
     "output_type": "execute_result"
    }
   ],
   "source": [
    "hamlet = words.flatMap(lambda line: re.split('\\W+', line.lower().strip()))\n",
    "hamlet.take(5)"
   ]
  },
  {
   "cell_type": "code",
   "execution_count": 15,
   "metadata": {
    "collapsed": false
   },
   "outputs": [
    {
     "name": "stdout",
     "output_type": "stream",
     "text": [
      "[u'hamlet', u'dramatis', u'personae', u'claudius', u'king']\n"
     ]
    }
   ],
   "source": [
    "tmp = hamlet.filter(lambda x: len(x) > 2 )\n",
    "print tmp.take(5)"
   ]
  },
  {
   "cell_type": "code",
   "execution_count": 16,
   "metadata": {
    "collapsed": false
   },
   "outputs": [
    {
     "data": {
      "text/plain": [
       "[(u'hamlet', 1),\n",
       " (u'dramatis', 1),\n",
       " (u'personae', 1),\n",
       " (u'claudius', 1),\n",
       " (u'king', 1)]"
      ]
     },
     "execution_count": 16,
     "metadata": {},
     "output_type": "execute_result"
    }
   ],
   "source": [
    "tmp = tmp.map(lambda word: (word, 1))\n",
    "tmp.take(5)"
   ]
  },
  {
   "cell_type": "code",
   "execution_count": 17,
   "metadata": {
    "collapsed": false
   },
   "outputs": [
    {
     "data": {
      "text/plain": [
       "[(u'stones', 1), (u'damon', 1), (u'liar', 1), (u'nunnery', 5), (u'crowing', 1)]"
      ]
     },
     "execution_count": 17,
     "metadata": {},
     "output_type": "execute_result"
    }
   ],
   "source": [
    "tmp = tmp.reduceByKey(lambda a, b: a + b)\n",
    "tmp.take(5)"
   ]
  },
  {
   "cell_type": "code",
   "execution_count": 18,
   "metadata": {
    "collapsed": false
   },
   "outputs": [
    {
     "data": {
      "text/plain": [
       "[(930, u'the'),\n",
       " (843, u'and'),\n",
       " (496, u'you'),\n",
       " (368, u'hamlet'),\n",
       " (346, u'that'),\n",
       " (278, u'lord'),\n",
       " (262, u'not'),\n",
       " (238, u'this'),\n",
       " (238, u'his'),\n",
       " (232, u'with'),\n",
       " (232, u'but'),\n",
       " (215, u'for'),\n",
       " (211, u'your'),\n",
       " (186, u'what'),\n",
       " (171, u'king'),\n",
       " (160, u'him'),\n",
       " (149, u'have'),\n",
       " (134, u'will'),\n",
       " (124, u'polonius'),\n",
       " (112, u'horatio')]"
      ]
     },
     "execution_count": 18,
     "metadata": {},
     "output_type": "execute_result"
    }
   ],
   "source": [
    "tmp = tmp.map(lambda x: (x[1], x[0])).sortByKey(False)\n",
    "tmp.take(20)"
   ]
  },
  {
   "cell_type": "code",
   "execution_count": 19,
   "metadata": {
    "collapsed": false
   },
   "outputs": [
    {
     "data": {
      "text/plain": [
       "[(u'the', 930),\n",
       " (u'and', 843),\n",
       " (u'you', 496),\n",
       " (u'hamlet', 368),\n",
       " (u'that', 346),\n",
       " (u'lord', 278),\n",
       " (u'not', 262),\n",
       " (u'this', 238),\n",
       " (u'his', 238),\n",
       " (u'with', 232),\n",
       " (u'but', 232),\n",
       " (u'for', 215),\n",
       " (u'your', 211),\n",
       " (u'what', 186),\n",
       " (u'king', 171),\n",
       " (u'him', 160),\n",
       " (u'have', 149),\n",
       " (u'will', 134),\n",
       " (u'polonius', 124),\n",
       " (u'horatio', 112)]"
      ]
     },
     "execution_count": 19,
     "metadata": {},
     "output_type": "execute_result"
    }
   ],
   "source": [
    "tmp = tmp.map(lambda x: (x[1], x[0]))\n",
    "tmp.take(20)"
   ]
  },
  {
   "cell_type": "code",
   "execution_count": 20,
   "metadata": {
    "collapsed": false
   },
   "outputs": [
    {
     "data": {
      "image/png": "[encoded data removed]",
      "text/plain": [
       "<matplotlib.figure.Figure at 0x106629bd0>"
      ]
     },
     "metadata": {},
     "output_type": "display_data"
    }
   ],
   "source": [
    "plot(tmp.take(15))"
   ]
  },
  {
   "cell_type": "code",
   "execution_count": 21,
   "metadata": {
    "collapsed": false
   },
   "outputs": [
    {
     "data": {
      "image/png": "[encoded data removed]",
      "text/plain": [
       "<matplotlib.figure.Figure at 0x106ee8910>"
      ]
     },
     "metadata": {},
     "output_type": "display_data"
    }
   ],
   "source": [
    "plot(top_words)"
   ]
  },
  {
   "cell_type": "markdown",
   "metadata": {},
   "source": [
    "## Summary code"
   ]
  },
  {
   "cell_type": "code",
   "execution_count": 72,
   "metadata": {
    "collapsed": false
   },
   "outputs": [
    {
     "data": {
      "text/plain": [
       "[(930, u'the'),\n",
       " (843, u'and'),\n",
       " (496, u'you'),\n",
       " (368, u'hamlet'),\n",
       " (346, u'that'),\n",
       " (278, u'lord'),\n",
       " (262, u'not'),\n",
       " (238, u'his'),\n",
       " (238, u'this'),\n",
       " (232, u'with'),\n",
       " (232, u'but'),\n",
       " (215, u'for'),\n",
       " (211, u'your'),\n",
       " (186, u'what'),\n",
       " (171, u'king')]"
      ]
     },
     "execution_count": 72,
     "metadata": {},
     "output_type": "execute_result"
    }
   ],
   "source": [
    "words = sc.textFile('hamlet.txt')\\\n",
    "        .flatMap(lambda line: re.split('\\W+', line.lower().strip()))\\\n",
    "        .filter(lambda x: len(x) > 2 )\\\n",
    "        .map(lambda word: (word, 1))\\\n",
    "        .reduceByKey(lambda a, b: a + b)\\\n",
    "        .map(lambda x: (x[1], x[0])).sortByKey(False)   \n",
    "\n",
    "words.take(15)"
   ]
  },
  {
   "cell_type": "markdown",
   "metadata": {},
   "source": [
    "## Text filtering"
   ]
  },
  {
   "cell_type": "code",
   "execution_count": 24,
   "metadata": {
    "collapsed": false
   },
   "outputs": [],
   "source": [
    "hamlet = os.path.join('data','hamlet.txt')\n",
    "words = sc.textFile(hamlet)"
   ]
  },
  {
   "cell_type": "markdown",
   "metadata": {},
   "source": [
    "How many lines contains <em>hamlet</em>?"
   ]
  },
  {
   "cell_type": "code",
   "execution_count": 25,
   "metadata": {
    "collapsed": false
   },
   "outputs": [
    {
     "data": {
      "text/plain": [
       "367"
      ]
     },
     "execution_count": 25,
     "metadata": {},
     "output_type": "execute_result"
    }
   ],
   "source": [
    "tmp = words.filter(lambda x: \"hamlet\" in x.lower())\n",
    "tmp.count()"
   ]
  },
  {
   "cell_type": "markdown",
   "metadata": {},
   "source": [
    "As a percent?"
   ]
  },
  {
   "cell_type": "code",
   "execution_count": 26,
   "metadata": {
    "collapsed": false
   },
   "outputs": [
    {
     "data": {
      "text/plain": [
       "'7.26%'"
      ]
     },
     "execution_count": 26,
     "metadata": {},
     "output_type": "execute_result"
    }
   ],
   "source": [
    "'{0:0.2f}%'.format(100*tmp.count()/float(words.count()))"
   ]
  },
  {
   "cell_type": "markdown",
   "metadata": {},
   "source": [
    "How about <em>claudius</em> and <em>hamlet</em>?"
   ]
  },
  {
   "cell_type": "code",
   "execution_count": 27,
   "metadata": {
    "collapsed": false
   },
   "outputs": [
    {
     "data": {
      "text/plain": [
       "12"
      ]
     },
     "execution_count": 27,
     "metadata": {},
     "output_type": "execute_result"
    }
   ],
   "source": [
    "tmp.filter( lambda x: 'claudius' in x.lower()).count()"
   ]
  },
  {
   "cell_type": "code",
   "execution_count": 28,
   "metadata": {
    "collapsed": false
   },
   "outputs": [
    {
     "data": {
      "text/plain": [
       "[u'\\t[Enter KING CLAUDIUS, QUEEN GERTRUDE, HAMLET,',\n",
       " u\"KING CLAUDIUS\\tThough yet of Hamlet our dear brother's death\",\n",
       " u\"KING CLAUDIUS\\t'Tis sweet and commendable in your nature, Hamlet,\",\n",
       " u'KING CLAUDIUS\\tHow fares our cousin Hamlet?',\n",
       " u'KING CLAUDIUS\\tI have nothing with this answer, Hamlet; these words',\n",
       " u'KING CLAUDIUS\\tWhat, Gertrude? How does Hamlet?',\n",
       " u\"KING CLAUDIUS\\tNow, Hamlet, where's Polonius?\",\n",
       " u'KING CLAUDIUS\\tHamlet, this deed, for thine especial safety,--',\n",
       " u'KING CLAUDIUS\\tAy, Hamlet.',\n",
       " u'KING CLAUDIUS\\tThy loving father, Hamlet.',\n",
       " u'KING CLAUDIUS\\tFrom Hamlet! who brought them?',\n",
       " u\"KING CLAUDIUS\\t'Tis Hamlets character. 'Naked!\"]"
      ]
     },
     "execution_count": 28,
     "metadata": {},
     "output_type": "execute_result"
    }
   ],
   "source": [
    "tmp.filter( lambda x: 'claudius' in x.lower()).collect()"
   ]
  },
  {
   "cell_type": "code",
   "execution_count": null,
   "metadata": {
    "collapsed": false
   },
   "outputs": [],
   "source": []
  }
 ],
 "metadata": {
  "kernelspec": {
   "display_name": "Python 2",
   "language": "python",
   "name": "python2"
  },
  "language_info": {
   "codemirror_mode": {
    "name": "ipython",
    "version": 2
   },
   "file_extension": ".py",
   "mimetype": "text/x-python",
   "name": "python",
   "nbconvert_exporter": "python",
   "pygments_lexer": "ipython2",
   "version": "2.7.10"
  }
 },
 "nbformat": 4,
 "nbformat_minor": 0
}
